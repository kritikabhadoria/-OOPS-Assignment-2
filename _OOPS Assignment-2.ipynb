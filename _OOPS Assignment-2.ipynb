{
 "cells": [
  {
   "cell_type": "markdown",
   "id": "1b1ecd0a-715e-4a08-b5c5-24ead884d027",
   "metadata": {},
   "source": [
    "Q1. What is Abstraction in OOps? Explain with an example."
   ]
  },
  {
   "cell_type": "markdown",
   "id": "f35566f9-6a57-4894-b25c-7eae8032e009",
   "metadata": {},
   "source": [
    "Answer - In object-oriented programming (OOP), abstraction is a fundamental concept that allows us to represent complex systems by focusing on the essential features while hiding unnecessary details."
   ]
  },
  {
   "cell_type": "code",
   "execution_count": 2,
   "id": "e0a7a5dc-8df4-4c38-85b6-26862253064d",
   "metadata": {},
   "outputs": [
    {
     "name": "stdout",
     "output_type": "stream",
     "text": [
      "Starting the Sedan's engine\n",
      "Starting the SUV's engine\n",
      "Stopping the Sedan's engine\n",
      "Stopping the SUV's engine\n"
     ]
    }
   ],
   "source": [
    "from abc import ABC, abstractmethod\n",
    "\n",
    "class Car(ABC):\n",
    "    @abstractmethod\n",
    "    def start_engine(self):\n",
    "        pass\n",
    "    \n",
    "    @abstractmethod\n",
    "    def stop_engine(self):\n",
    "        pass\n",
    "\n",
    "class Sedan(Car):\n",
    "    def start_engine(self):\n",
    "        print(\"Starting the Sedan's engine\")\n",
    "    \n",
    "    def stop_engine(self):\n",
    "        print(\"Stopping the Sedan's engine\")\n",
    "\n",
    "class SUV(Car):\n",
    "    def start_engine(self):\n",
    "        print(\"Starting the SUV's engine\")\n",
    "    \n",
    "    def stop_engine(self):\n",
    "        print(\"Stopping the SUV's engine\")\n",
    "\n",
    "sedan = Sedan()\n",
    "suv = SUV()\n",
    "\n",
    "sedan.start_engine()  \n",
    "suv.start_engine()    \n",
    "\n",
    "sedan.stop_engine()   \n",
    "suv.stop_engine()     \n"
   ]
  },
  {
   "cell_type": "markdown",
   "id": "2b47477f-a89f-4078-9372-05606810863f",
   "metadata": {},
   "source": [
    "Q2. Differentiate between Abstraction and Encapsulation. Explain with an example."
   ]
  },
  {
   "cell_type": "markdown",
   "id": "559708f8-2c1a-4170-85fa-a386daa085b9",
   "metadata": {},
   "source": [
    "Abstraction focuses on hiding unnecessary details and exposing only the essential features and behaviors of an object or system.\n",
    "Encapsulation, on the other hand, is about bundling data and methods together within a class and controlling access to them."
   ]
  },
  {
   "cell_type": "code",
   "execution_count": 3,
   "id": "689f39f4-c0a0-442e-aeae-18e24a4f4422",
   "metadata": {},
   "outputs": [],
   "source": [
    "class BankAccount:\n",
    "    def __init__(self, account_number, balance):\n",
    "        self.account_number = account_number\n",
    "        self.balance = balance\n",
    "    \n",
    "    def deposit(self, amount):\n",
    "        self.balance += amount\n",
    "    \n",
    "    def withdraw(self, amount):\n",
    "        if self.balance >= amount:\n",
    "            self.balance -= amount\n",
    "        else:\n",
    "            print(\"Insufficient balance.\")\n",
    "\n",
    "    def get_balance(self):\n",
    "        return self.balance\n"
   ]
  },
  {
   "cell_type": "code",
   "execution_count": 4,
   "id": "10fbe0d2-8c90-49b2-bc29-6255f74cc32e",
   "metadata": {},
   "outputs": [],
   "source": [
    "nikki = BankAccount(9887,300)"
   ]
  },
  {
   "cell_type": "code",
   "execution_count": 5,
   "id": "e81ab064-cdf3-45a1-9638-e73006a9f0bc",
   "metadata": {},
   "outputs": [
    {
     "data": {
      "text/plain": [
       "300"
      ]
     },
     "execution_count": 5,
     "metadata": {},
     "output_type": "execute_result"
    }
   ],
   "source": [
    "nikki.balance"
   ]
  },
  {
   "cell_type": "code",
   "execution_count": 6,
   "id": "587b9db8-6684-4f81-8c84-bf76d01f4fda",
   "metadata": {},
   "outputs": [],
   "source": [
    "nikki.deposit(8900)"
   ]
  },
  {
   "cell_type": "code",
   "execution_count": 7,
   "id": "a8aad36a-4000-4941-ae56-2ac8837a7be8",
   "metadata": {},
   "outputs": [
    {
     "data": {
      "text/plain": [
       "9200"
      ]
     },
     "execution_count": 7,
     "metadata": {},
     "output_type": "execute_result"
    }
   ],
   "source": [
    "nikki.get_balance()"
   ]
  },
  {
   "cell_type": "markdown",
   "id": "ab7b7722-8ba3-4002-8ead-c1f7633d2291",
   "metadata": {},
   "source": [
    "Q3. What is abc module in python? Why is it used?"
   ]
  },
  {
   "cell_type": "markdown",
   "id": "5a96e869-f144-49fb-a011-b48aca765bce",
   "metadata": {},
   "source": [
    "Answer- The abc module in Python stands for \"Abstract Base Classes.\" It is used to create abstract base classes and enforce rules or contracts for subclasses. It helps define common interfaces, enforce method implementations, and check subclass relationships. It promotes code reuse and facilitates the development of organized and maintainable software"
   ]
  },
  {
   "cell_type": "markdown",
   "id": "eb89eb55-2355-4fe5-968f-0412a2a3d260",
   "metadata": {},
   "source": [
    "Q4. How can we achieve data abstraction?"
   ]
  },
  {
   "cell_type": "code",
   "execution_count": 8,
   "id": "ecd23485-b039-4ed7-ac93-c2c3ef4d1e3d",
   "metadata": {},
   "outputs": [
    {
     "name": "stdout",
     "output_type": "stream",
     "text": [
      "1234567890\n",
      "1000\n",
      "1500\n",
      "1300\n"
     ]
    }
   ],
   "source": [
    "class BankAccount:\n",
    "    def __init__(self, account_number, balance):\n",
    "        self._account_number = account_number\n",
    "        self._balance = balance\n",
    "\n",
    "    def get_account_number(self):\n",
    "        return self._account_number\n",
    "\n",
    "    def get_balance(self):\n",
    "        return self._balance\n",
    "\n",
    "    def deposit(self, amount):\n",
    "        self._balance += amount\n",
    "\n",
    "    def withdraw(self, amount):\n",
    "        if self._balance >= amount:\n",
    "            self._balance -= amount\n",
    "        else:\n",
    "            print(\"Insufficient balance.\")\n",
    "\n",
    "# Creating an instance and using data abstraction\n",
    "account = BankAccount(\"1234567890\", 1000)\n",
    "\n",
    "print(account.get_account_number())  \n",
    "print(account.get_balance())        \n",
    "\n",
    "account.deposit(500)\n",
    "print(account.get_balance())        \n",
    "\n",
    "account.withdraw(200)\n",
    "print(account.get_balance())        \n"
   ]
  },
  {
   "cell_type": "markdown",
   "id": "503b148f-7404-4c54-b831-f8c0849d1f72",
   "metadata": {},
   "source": [
    "Q5. Can we create an instance of an abstract class? Explain your answer."
   ]
  },
  {
   "cell_type": "markdown",
   "id": "96abbd4b-baa0-466b-b19a-c1b306ef7e6b",
   "metadata": {},
   "source": [
    "No, we cannot create an instance of an abstract class directly. Abstract classes are incomplete and serve as blueprints for subclasses to inherit from. They contain abstract methods without implementations. Creating an instance of an abstract class would result in a TypeError. Subclasses must be created to provide implementations for the abstract methods and instantiate objects."
   ]
  },
  {
   "cell_type": "code",
   "execution_count": null,
   "id": "c1f5fca9-3848-4046-bc66-ab0dbd1905d8",
   "metadata": {},
   "outputs": [],
   "source": []
  }
 ],
 "metadata": {
  "kernelspec": {
   "display_name": "Python 3 (ipykernel)",
   "language": "python",
   "name": "python3"
  },
  "language_info": {
   "codemirror_mode": {
    "name": "ipython",
    "version": 3
   },
   "file_extension": ".py",
   "mimetype": "text/x-python",
   "name": "python",
   "nbconvert_exporter": "python",
   "pygments_lexer": "ipython3",
   "version": "3.10.8"
  }
 },
 "nbformat": 4,
 "nbformat_minor": 5
}
